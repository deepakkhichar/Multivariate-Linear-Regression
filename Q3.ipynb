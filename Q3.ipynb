{
 "cells": [
  {
   "cell_type": "code",
   "execution_count": 12,
   "id": "aaaf97c8",
   "metadata": {},
   "outputs": [],
   "source": [
    "import pandas as pd\n",
    "import matplotlib as mpl\n",
    "import matplotlib.pyplot as plt\n",
    "import datetime as dt\n",
    "\n",
    "filename = 'A.csv'\n",
    "data = pd.read_csv(filename,  parse_dates= ['ts'])\n",
    "\n",
    "dataFiltered = data[data['sensorThree']>0]\n",
    "dataFiltered = dataFiltered[dataFiltered['sensorThree'].notna()]\n",
    "dataFiltered = dataFiltered[dataFiltered['sensorFour']>0]\n",
    "dataFiltered = dataFiltered[dataFiltered['sensorFour'].notna()]\n",
    "dataFiltered = dataFiltered[dataFiltered['sensorFive']>0]\n",
    "dataFiltered = dataFiltered[dataFiltered['sensorFive'].notna()]\n",
    "dataFiltered = dataFiltered[dataFiltered['sensorSix']>0]\n",
    "dataFiltered = dataFiltered[dataFiltered['sensorSix'].notna()]\n",
    "dataFiltered = dataFiltered[dataFiltered['sensorSeven']>0]\n",
    "dataFiltered = dataFiltered[dataFiltered['sensorSeven'].notna()]\n",
    "data = dataFiltered"
   ]
  },
  {
   "cell_type": "code",
   "execution_count": 13,
   "id": "acdffc71",
   "metadata": {},
   "outputs": [
    {
     "data": {
      "text/plain": [
       "14         50027.0\n",
       "15         50209.0\n",
       "16         50569.0\n",
       "17         50479.0\n",
       "18         49740.0\n",
       "            ...   \n",
       "4353452    55109.0\n",
       "4353453    44618.0\n",
       "4353454    54518.0\n",
       "4353455    71825.0\n",
       "4353456    51489.0\n",
       "Name: metaOne, Length: 4178377, dtype: float64"
      ]
     },
     "execution_count": 13,
     "metadata": {},
     "output_type": "execute_result"
    }
   ],
   "source": [
    "data['metaOne'] = pd.to_timedelta(data['metaOne'])\n",
    "data['metaOne'] = data['metaOne'].dt.total_seconds()\n",
    "data['metaOne']"
   ]
  },
  {
   "cell_type": "code",
   "execution_count": 14,
   "id": "2aef35df",
   "metadata": {},
   "outputs": [],
   "source": [
    "data['ts']= data['ts'].map(dt.datetime.toordinal)"
   ]
  },
  {
   "cell_type": "code",
   "execution_count": 15,
   "id": "647bc641",
   "metadata": {},
   "outputs": [
    {
     "data": {
      "text/html": [
       "<div>\n",
       "<style scoped>\n",
       "    .dataframe tbody tr th:only-of-type {\n",
       "        vertical-align: middle;\n",
       "    }\n",
       "\n",
       "    .dataframe tbody tr th {\n",
       "        vertical-align: top;\n",
       "    }\n",
       "\n",
       "    .dataframe thead th {\n",
       "        text-align: right;\n",
       "    }\n",
       "</style>\n",
       "<table border=\"1\" class=\"dataframe\">\n",
       "  <thead>\n",
       "    <tr style=\"text-align: right;\">\n",
       "      <th></th>\n",
       "      <th>metaOne</th>\n",
       "      <th>ts</th>\n",
       "      <th>sensorThree</th>\n",
       "      <th>sensorFour</th>\n",
       "      <th>sensorFive</th>\n",
       "      <th>sensorSix</th>\n",
       "      <th>sensorSeven</th>\n",
       "    </tr>\n",
       "  </thead>\n",
       "  <tbody>\n",
       "    <tr>\n",
       "      <th>count</th>\n",
       "      <td>4.178377e+06</td>\n",
       "      <td>4.178377e+06</td>\n",
       "      <td>4.178377e+06</td>\n",
       "      <td>4.178377e+06</td>\n",
       "      <td>4.178377e+06</td>\n",
       "      <td>4.178377e+06</td>\n",
       "      <td>4.178377e+06</td>\n",
       "    </tr>\n",
       "    <tr>\n",
       "      <th>mean</th>\n",
       "      <td>4.327370e+04</td>\n",
       "      <td>7.378481e+05</td>\n",
       "      <td>5.842248e+01</td>\n",
       "      <td>9.723158e+01</td>\n",
       "      <td>1.107867e+02</td>\n",
       "      <td>4.024120e+01</td>\n",
       "      <td>2.569462e+01</td>\n",
       "    </tr>\n",
       "    <tr>\n",
       "      <th>std</th>\n",
       "      <td>2.509653e+04</td>\n",
       "      <td>3.212385e+01</td>\n",
       "      <td>4.600500e+01</td>\n",
       "      <td>8.313975e+01</td>\n",
       "      <td>9.057993e+01</td>\n",
       "      <td>1.443262e+01</td>\n",
       "      <td>4.929805e+00</td>\n",
       "    </tr>\n",
       "    <tr>\n",
       "      <th>min</th>\n",
       "      <td>0.000000e+00</td>\n",
       "      <td>7.377800e+05</td>\n",
       "      <td>1.000000e+00</td>\n",
       "      <td>1.000000e+00</td>\n",
       "      <td>1.000000e+00</td>\n",
       "      <td>1.000000e-02</td>\n",
       "      <td>4.000000e-02</td>\n",
       "    </tr>\n",
       "    <tr>\n",
       "      <th>25%</th>\n",
       "      <td>2.135000e+04</td>\n",
       "      <td>7.378340e+05</td>\n",
       "      <td>2.700000e+01</td>\n",
       "      <td>4.200000e+01</td>\n",
       "      <td>5.400000e+01</td>\n",
       "      <td>3.114000e+01</td>\n",
       "      <td>2.206000e+01</td>\n",
       "    </tr>\n",
       "    <tr>\n",
       "      <th>50%</th>\n",
       "      <td>4.347300e+04</td>\n",
       "      <td>7.378560e+05</td>\n",
       "      <td>4.200000e+01</td>\n",
       "      <td>6.700000e+01</td>\n",
       "      <td>7.700000e+01</td>\n",
       "      <td>4.073000e+01</td>\n",
       "      <td>2.595000e+01</td>\n",
       "    </tr>\n",
       "    <tr>\n",
       "      <th>75%</th>\n",
       "      <td>6.511900e+04</td>\n",
       "      <td>7.378740e+05</td>\n",
       "      <td>7.800000e+01</td>\n",
       "      <td>1.290000e+02</td>\n",
       "      <td>1.430000e+02</td>\n",
       "      <td>4.942000e+01</td>\n",
       "      <td>2.928000e+01</td>\n",
       "    </tr>\n",
       "    <tr>\n",
       "      <th>max</th>\n",
       "      <td>8.639900e+04</td>\n",
       "      <td>7.378900e+05</td>\n",
       "      <td>3.916000e+03</td>\n",
       "      <td>4.224000e+03</td>\n",
       "      <td>4.419000e+03</td>\n",
       "      <td>1.189900e+02</td>\n",
       "      <td>6.258000e+01</td>\n",
       "    </tr>\n",
       "  </tbody>\n",
       "</table>\n",
       "</div>"
      ],
      "text/plain": [
       "            metaOne            ts   sensorThree    sensorFour    sensorFive  \\\n",
       "count  4.178377e+06  4.178377e+06  4.178377e+06  4.178377e+06  4.178377e+06   \n",
       "mean   4.327370e+04  7.378481e+05  5.842248e+01  9.723158e+01  1.107867e+02   \n",
       "std    2.509653e+04  3.212385e+01  4.600500e+01  8.313975e+01  9.057993e+01   \n",
       "min    0.000000e+00  7.377800e+05  1.000000e+00  1.000000e+00  1.000000e+00   \n",
       "25%    2.135000e+04  7.378340e+05  2.700000e+01  4.200000e+01  5.400000e+01   \n",
       "50%    4.347300e+04  7.378560e+05  4.200000e+01  6.700000e+01  7.700000e+01   \n",
       "75%    6.511900e+04  7.378740e+05  7.800000e+01  1.290000e+02  1.430000e+02   \n",
       "max    8.639900e+04  7.378900e+05  3.916000e+03  4.224000e+03  4.419000e+03   \n",
       "\n",
       "          sensorSix   sensorSeven  \n",
       "count  4.178377e+06  4.178377e+06  \n",
       "mean   4.024120e+01  2.569462e+01  \n",
       "std    1.443262e+01  4.929805e+00  \n",
       "min    1.000000e-02  4.000000e-02  \n",
       "25%    3.114000e+01  2.206000e+01  \n",
       "50%    4.073000e+01  2.595000e+01  \n",
       "75%    4.942000e+01  2.928000e+01  \n",
       "max    1.189900e+02  6.258000e+01  "
      ]
     },
     "execution_count": 15,
     "metadata": {},
     "output_type": "execute_result"
    }
   ],
   "source": [
    "data.describe()"
   ]
  },
  {
   "cell_type": "code",
   "execution_count": 8,
   "id": "05a99d45",
   "metadata": {},
   "outputs": [],
   "source": [
    "from sklearn.model_selection import train_test_split\n",
    "X_val = data[[\"metaOne\",\"ts\",\"sensorFive\",\"sensorSix\",\"sensorSeven\"]].values\n",
    "Y_val = data[[\"sensorThree\",\"sensorFour\"]].values\n",
    "X_train, X_test, Y_train, Y_test = train_test_split(X_val, Y_val, test_size = 0.33)"
   ]
  },
  {
   "cell_type": "code",
   "execution_count": 8,
   "id": "8fecdb86",
   "metadata": {},
   "outputs": [
    {
     "name": "stdout",
     "output_type": "stream",
     "text": [
      "0.984329094683847\n",
      "50.73157526280538\n",
      "4.193471625504772\n"
     ]
    }
   ],
   "source": [
    "from sklearn.linear_model import LinearRegression\n",
    "from sklearn import metrics\n",
    "regr = LinearRegression()\n",
    "regr.fit(X_train, Y_train)\n",
    "print(regr.score(X_test, Y_test))\n",
    "Y_pred = regr.predict(X_test)\n",
    "print(metrics.mean_squared_error(Y_pred, Y_test))\n",
    "print(metrics.mean_absolute_error(Y_pred, Y_test))"
   ]
  },
  {
   "cell_type": "code",
   "execution_count": 12,
   "id": "8d509299",
   "metadata": {},
   "outputs": [
    {
     "name": "stdout",
     "output_type": "stream",
     "text": [
      "0.9843290946838474\n",
      "50.731575262804924\n",
      "4.193471625503403\n"
     ]
    }
   ],
   "source": [
    "from sklearn.preprocessing import MinMaxScaler\n",
    "\n",
    "scaler1 = MinMaxScaler().fit(X_train)\n",
    "X_train_scaled1 = scaler1.transform(X_train)\n",
    "scaler1_test = MinMaxScaler().fit(X_train)\n",
    "X_test_scaled1 = scaler1.transform(X_test)\n",
    "regr1 = LinearRegression()\n",
    "regr1.fit(X_train_scaled1, Y_train)\n",
    "X_test_scaled1 = scaler1.transform(X_test)\n",
    "print(regr1.score(X_test_scaled1, Y_test))\n",
    "Y_pred1 = regr1.predict(X_test_scaled1)\n",
    "print(metrics.mean_squared_error(Y_pred1, Y_test))\n",
    "print(metrics.mean_absolute_error(Y_pred1, Y_test))"
   ]
  },
  {
   "cell_type": "code",
   "execution_count": 11,
   "id": "12206988",
   "metadata": {},
   "outputs": [
    {
     "name": "stdout",
     "output_type": "stream",
     "text": [
      "0.9843290946838472\n",
      "50.731575262805094\n",
      "4.193471625504697\n"
     ]
    }
   ],
   "source": [
    "from sklearn.preprocessing import StandardScaler\n",
    "#Standard Scaler\n",
    "scaler2 = StandardScaler().fit(X_train)\n",
    "X_train_scaled2 = scaler2.transform(X_train)\n",
    "scaler2_test = StandardScaler().fit(X_train)\n",
    "X_test_scaled2 = scaler2.transform(X_test)\n",
    "regr2 = LinearRegression()\n",
    "regr2.fit(X_train_scaled2, Y_train)\n",
    "X_test_scaled2 = scaler2.transform(X_test)\n",
    "print(regr2.score(X_test_scaled2, Y_test))\n",
    "Y_pred2 = regr2.predict(X_test_scaled2)\n",
    "print(metrics.mean_squared_error(Y_pred2, Y_test))\n",
    "print(metrics.mean_absolute_error(Y_pred2, Y_test))"
   ]
  },
  {
   "cell_type": "code",
   "execution_count": 11,
   "id": "29b1ea2e",
   "metadata": {},
   "outputs": [
    {
     "name": "stdout",
     "output_type": "stream",
     "text": [
      "0 14.067689122719715\n",
      "1 1419284.5064154174\n",
      "2 113081205.83849794\n",
      "3 1119460.8369489918\n",
      "4 2171922.6504188133\n"
     ]
    },
    {
     "data": {
      "image/png": "[encoded data removed]",
      "text/plain": [
       "<Figure size 432x288 with 1 Axes>"
      ]
     },
     "metadata": {
      "needs_background": "light"
     },
     "output_type": "display_data"
    }
   ],
   "source": [
    "from sklearn.feature_selection import f_regression\n",
    "from sklearn.feature_selection import SelectKBest\n",
    "from sklearn.preprocessing import StandardScaler\n",
    "scaler = StandardScaler().fit(X_train)\n",
    "X_train_scaled2 = scaler2.transform(X_train)\n",
    "fs = SelectKBest(score_func = f_regression, k = 'all')\n",
    "fs.fit(X_train_scaled2, Y_train[:,0])\n",
    "X_train_fs = fs.transform(X_train)\n",
    "X_test_fs = fs.transform(X_test)\n",
    "for i in range(len(fs.scores_)):\n",
    "    print(i, fs.scores_[i])\n",
    "plt.bar(range(0,5), fs.scores_, color = 'maroon', width = 0.4)\n",
    "plt.title('feature scores for sensorThree')\n",
    "plt.show()"
   ]
  },
  {
   "cell_type": "code",
   "execution_count": 19,
   "id": "7adc5b23",
   "metadata": {},
   "outputs": [
    {
     "name": "stdout",
     "output_type": "stream",
     "text": [
      "0 675.7527975414735\n",
      "1 1349400.730967399\n",
      "2 410750907.15434676\n",
      "3 1075831.9919891239\n",
      "4 2140592.887917833\n"
     ]
    }
   ],
   "source": [
    "fs = SelectKBest(score_func = f_regression, k = 'all')\n",
    "fs.fit(X_train, Y_train[:,1])\n",
    "X_train_fs = fs.transform(X_train)\n",
    "X_test_fs = fs.transform(X_test)\n",
    "for i in range(len(fs.scores_)):\n",
    "    print(i, fs.scores_[i])"
   ]
  },
  {
   "cell_type": "code",
   "execution_count": 20,
   "id": "50b8e20b",
   "metadata": {},
   "outputs": [
    {
     "data": {
      "image/png": "[encoded data removed]",
      "text/plain": [
       "<Figure size 432x288 with 1 Axes>"
      ]
     },
     "metadata": {
      "needs_background": "light"
     },
     "output_type": "display_data"
    }
   ],
   "source": [
    "plt.bar(range(0,5), fs.scores_, color = 'blue', width = 0.4)\n",
    "plt.title('feature scores for sensorFour')\n",
    "plt.show()\n"
   ]
  },
  {
   "cell_type": "code",
   "execution_count": null,
   "id": "e3486df6",
   "metadata": {},
   "outputs": [],
   "source": [
    "from sklearn.feature_selection import mutual_info_regression\n",
    "fs2 = SelectKBest(score_func = mutual_info_regression, k = 'all')\n",
    "fs2.fit(X_train, Y_train[:,1])\n",
    "X_train_fs2 = fs2.transform(X_train)\n",
    "X_test_fs2 = fs2.transform(X_test)\n",
    "for i in range(len(fs.scores_)):\n",
    "    print(i, fs.scores_[i])\n",
    "plt.bar(range(0,5), fs2.scores_, color = 'blue', width = 0.4)\n",
    "plt.show()\n",
    "# Too lengthy computation (skip this)"
   ]
  },
  {
   "cell_type": "code",
   "execution_count": 19,
   "id": "e35427f1",
   "metadata": {},
   "outputs": [
    {
     "name": "stdout",
     "output_type": "stream",
     "text": [
      "0.9823334065676137\n",
      "57.19189876948069\n",
      "4.320168956750745\n"
     ]
    }
   ],
   "source": [
    "from sklearn.linear_model import LinearRegression\n",
    "from sklearn import metrics\n",
    "sensorFive = data[['sensorFive']].values\n",
    "s5_train, s5_test, y_train, y_test = train_test_split(sensorFive, Y_val, test_size = 0.33)\n",
    "regr1 = LinearRegression()\n",
    "regr1.fit(s5_train, y_train)\n",
    "print(regr1.score(s5_test, y_test))\n",
    "y_pred = regr1.predict(s5_test)\n",
    "print(metrics.mean_squared_error(y_pred, y_test))\n",
    "print(metrics.mean_absolute_error(y_pred, y_test))"
   ]
  },
  {
   "cell_type": "code",
   "execution_count": 25,
   "id": "c8b85952",
   "metadata": {},
   "outputs": [
    {
     "name": "stdout",
     "output_type": "stream",
     "text": [
      "-6.857990902164879e-06\n"
     ]
    }
   ],
   "source": [
    "from sklearn import preprocessing\n",
    "dataNormalized = preprocessing.normalize(X_train)\n",
    "testDataNormalized = preprocessing.normalize(X_test)\n",
    "regr2 = LinearRegression()\n",
    "regr2.fit(dataNormalized, Y_train)\n",
    "print(regr2.score(testDataNormalized, Y_test))\n",
    "# Worse scores on normalizing "
   ]
  },
  {
   "cell_type": "code",
   "execution_count": 21,
   "id": "72b47987",
   "metadata": {},
   "outputs": [],
   "source": [
    "from sklearn.model_selection import cross_val_score\n",
    "regr = LinearRegression()\n",
    "scores = cross_val_score(regr, X_val, Y_val, cv = 5)"
   ]
  },
  {
   "cell_type": "code",
   "execution_count": 23,
   "id": "d1527d95",
   "metadata": {},
   "outputs": [
    {
     "name": "stdout",
     "output_type": "stream",
     "text": [
      "[0.98384083 0.97834294 0.97964676 0.98165888 0.83562806]\n",
      "0.951823492362416\n",
      "0.0033788109642970132\n"
     ]
    }
   ],
   "source": [
    "print(scores)\n",
    "print(scores.mean())\n",
    "print(scores.var())"
   ]
  },
  {
   "cell_type": "code",
   "execution_count": null,
   "id": "e6e9f0a9",
   "metadata": {},
   "outputs": [],
   "source": []
  }
 ],
 "metadata": {
  "kernelspec": {
   "display_name": "Python 3 (ipykernel)",
   "language": "python",
   "name": "python3"
  },
  "language_info": {
   "codemirror_mode": {
    "name": "ipython",
    "version": 3
   },
   "file_extension": ".py",
   "mimetype": "text/x-python",
   "name": "python",
   "nbconvert_exporter": "python",
   "pygments_lexer": "ipython3",
   "version": "3.9.5"
  }
 },
 "nbformat": 4,
 "nbformat_minor": 5
}
