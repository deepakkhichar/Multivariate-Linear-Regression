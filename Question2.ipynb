{
 "cells": [
  {
   "cell_type": "code",
   "execution_count": 3,
   "id": "bb0c4afe",
   "metadata": {},
   "outputs": [],
   "source": [
    "import numpy as np\n",
    "import pandas as pd\n",
    "import matplotlib.pyplot as plt\n"
   ]
  },
  {
   "cell_type": "code",
   "execution_count": 4,
   "id": "55a6958e",
   "metadata": {},
   "outputs": [],
   "source": [
    "input_data=pd.read_csv(\"A.csv\")"
   ]
  },
  {
   "cell_type": "code",
   "execution_count": 3,
   "id": "5819c18d",
   "metadata": {},
   "outputs": [
    {
     "name": "stdout",
     "output_type": "stream",
     "text": [
      "    metaOne          ts  sensorThree  sensorFour  sensorFive  sensorSix  \\\n",
      "0  15:55:21  2021-01-16          0.0         0.0         0.0       0.00   \n",
      "1  05:34:03  2021-01-18          0.0         0.0         0.0       0.00   \n",
      "2  14:11:13  2021-01-20          0.0         0.0         0.0       0.00   \n",
      "3  14:11:49  2021-01-20          0.0         0.0         0.0       0.00   \n",
      "4  09:41:37  2021-01-21          0.0         0.0         0.0      32.85   \n",
      "\n",
      "   sensorSeven  \n",
      "0         0.00  \n",
      "1         0.00  \n",
      "2         0.00  \n",
      "3         0.00  \n",
      "4        25.04  \n"
     ]
    }
   ],
   "source": [
    "print(input_data.head())"
   ]
  },
  {
   "cell_type": "code",
   "execution_count": 5,
   "id": "5f0891ee",
   "metadata": {
    "scrolled": true
   },
   "outputs": [
    {
     "name": "stdout",
     "output_type": "stream",
     "text": [
      "     metaOne          ts  sensorThree  sensorFour  sensorFive  sensorSix  \\\n",
      "14  13:53:47  2021-01-19         25.0        50.0       100.0       50.0   \n",
      "15  13:56:49  2021-01-19         25.0        50.0       100.0       50.0   \n",
      "16  14:02:49  2021-01-19         25.0        50.0       100.0       50.0   \n",
      "17  14:01:19  2021-01-19         25.0        50.0       100.0       50.0   \n",
      "18  13:49:00  2021-01-19         25.0        50.0       100.0       50.0   \n",
      "\n",
      "    sensorSeven  \n",
      "14         22.0  \n",
      "15         22.0  \n",
      "16         22.0  \n",
      "17         22.0  \n",
      "18         22.0  \n"
     ]
    }
   ],
   "source": [
    "input_data=input_data[input_data['sensorFour'].notna()]\n",
    "input_data=input_data[input_data['sensorFour']>0]\n",
    "\n",
    "input_data=input_data[input_data['sensorThree'].notna()]\n",
    "input_data=input_data[input_data['sensorThree']>0]\n",
    "\n",
    "input_data=input_data[input_data['sensorFive'].notna()]\n",
    "input_data=input_data[input_data['sensorFive']>0]\n",
    "\n",
    "input_data=input_data[input_data['sensorSix'].notna()]\n",
    "input_data=input_data[input_data['sensorSix']>0]\n",
    "\n",
    "input_data=input_data[input_data['sensorSeven'].notna()]\n",
    "input_data=input_data[input_data['sensorSeven']>0]\n",
    "\n",
    "print(input_data.head())\n"
   ]
  },
  {
   "cell_type": "code",
   "execution_count": 6,
   "id": "ef7a30d4",
   "metadata": {},
   "outputs": [],
   "source": [
    "import datetime as dt\n",
    "input_data['ts']=pd.to_datetime(input_data['ts'])\n",
    "input_data['ts']=input_data['ts'].map(dt.datetime.toordinal)\n",
    "\n",
    "input_data['metaOne']=pd.to_timedelta(input_data['metaOne'])\n",
    "input_data['metaOne']=input_data['metaOne'].dt.total_seconds()\n"
   ]
  },
  {
   "cell_type": "code",
   "execution_count": 6,
   "id": "be3dd2b4",
   "metadata": {},
   "outputs": [
    {
     "name": "stdout",
     "output_type": "stream",
     "text": [
      "    metaOne      ts  sensorThree  sensorFour  sensorFive  sensorSix  \\\n",
      "14  50027.0  737809         25.0        50.0       100.0       50.0   \n",
      "15  50209.0  737809         25.0        50.0       100.0       50.0   \n",
      "16  50569.0  737809         25.0        50.0       100.0       50.0   \n",
      "17  50479.0  737809         25.0        50.0       100.0       50.0   \n",
      "18  49740.0  737809         25.0        50.0       100.0       50.0   \n",
      "\n",
      "    sensorSeven  \n",
      "14         22.0  \n",
      "15         22.0  \n",
      "16         22.0  \n",
      "17         22.0  \n",
      "18         22.0  \n"
     ]
    }
   ],
   "source": [
    "print(input_data.head())"
   ]
  },
  {
   "cell_type": "code",
   "execution_count": 7,
   "id": "c5acbf51",
   "metadata": {},
   "outputs": [],
   "source": [
    "x=input_data[[\"metaOne\",\"ts\",\"sensorFive\",\"sensorSix\",\"sensorSeven\"]].values\n",
    "y=input_data[[\"sensorThree\",\"sensorFour\"]].values\n",
    "\n",
    "from sklearn.model_selection import train_test_split\n",
    "x_train, x_test, y_train, y_test=train_test_split(x,y,test_size=0.2,random_state=42)\n",
    "\n"
   ]
  },
  {
   "cell_type": "code",
   "execution_count": 9,
   "id": "c60b8205",
   "metadata": {},
   "outputs": [],
   "source": [
    "from sklearn.linear_model import LinearRegression\n",
    "ml=LinearRegression()\n",
    "ml.fit(x_train,y_train)\n",
    "y_pred=ml.predict(x_test)"
   ]
  },
  {
   "cell_type": "code",
   "execution_count": 19,
   "id": "d28b6290",
   "metadata": {},
   "outputs": [
    {
     "data": {
      "image/png": "[encoded data removed]",
      "text/plain": [
       "<Figure size 360x360 with 1 Axes>"
      ]
     },
     "metadata": {
      "needs_background": "light"
     },
     "output_type": "display_data"
    },
    {
     "data": {
      "image/png": "[encoded data removed]",
      "text/plain": [
       "<Figure size 360x360 with 1 Axes>"
      ]
     },
     "metadata": {
      "needs_background": "light"
     },
     "output_type": "display_data"
    }
   ],
   "source": [
    "plt.figure(figsize=(5,5))\n",
    "plt.xlabel(\"sensor3_test_data\")\n",
    "plt.ylabel(\"sensor3_predicted\")\n",
    "plt.title(\"sensor3 test vs predicted\")\n",
    "plt.scatter(y_test[:,0],y_pred[:,0])\n",
    "\n",
    "\n",
    "plt.figure(figsize=(5,5))\n",
    "plt.xlabel(\"sensor4_test_data\")\n",
    "plt.ylabel(\"sensor4_test_predicted\")\n",
    "plt.title(\"sensor4 test vs predicted\")\n",
    "plt.scatter(y_test[:,1],y_pred[:,1])\n",
    "y_train_pred=ml.predict(x_train)\n"
   ]
  },
  {
   "cell_type": "code",
   "execution_count": 11,
   "id": "475a5bab",
   "metadata": {},
   "outputs": [],
   "source": [
    "from sklearn.metrics import mean_absolute_error\n",
    "from sklearn.metrics import mean_squared_error\n",
    "from sklearn.metrics import mean_absolute_percentage_error\n",
    "    \n",
    "def printMetrics(y_test, y_pred, y_train, y_train_pred):\n",
    "\n",
    "    \n",
    "    print(\"Mean absolute Testing error in Sensor3: \",mean_absolute_error(y_test[:,0], y_pred[:,0]))\n",
    "    print(\"Mean absolute Training error in Sensor3: \",mean_absolute_error(y_train[:,0], y_train_pred[:,0]))\n",
    "    print(\"\\n\")\n",
    "\n",
    "    \n",
    "    print(\"Mean Squared Testing error in Sensor3: \",mean_squared_error(y_test[:,0], y_pred[:,0]))\n",
    "    print(\"Mean Squared Training error in Sensor3: \",mean_squared_error(y_train[:,0], y_train_pred[:,0]))\n",
    "    print(\"\\n\")\n",
    "\n",
    "   \n",
    "    print(\"Percentage Mean absolute percentage Testing error in Sensor3: \",mean_absolute_percentage_error(y_test[:,0],y_pred[:,0])*100,\"%\")\n",
    "    print(\"Percentage Mean absolute Testing error in Sensor3: \",mean_absolute_percentage_error(y_train[:,0], y_train_pred[:,0])*100,\"%\")\n",
    "    print(\"\\n\\n\\n\")\n",
    "\n",
    "\n",
    "\n",
    "    print(\"Mean absolute Testing error in Sensor4: \",mean_absolute_error(y_test[:,1], y_pred[:,1]))\n",
    "    print(\"Mean absolute Training error in Sensor4: \",mean_absolute_error(y_train[:,1], y_train_pred[:,1]))\n",
    "    print(\"\\n\")\n",
    "    print(\"Mean Squared Testing error in Sensor4: \",mean_squared_error(y_test[:,1], y_pred[:,1]))\n",
    "    print(\"Mean Squared Training error in Sensor4: \",mean_squared_error(y_train[:,1], y_train_pred[:,1]))\n",
    "    print(\"\\n\")\n",
    "    print(\"Percentage Mean absolute percentage Testing error in Sensor4: \",mean_absolute_percentage_error(y_test[:,1],y_pred[:,1])*100,\"%\")\n",
    "    print(\"Percentage Mean absolute Testing error in Sensor3: \",mean_absolute_percentage_error(y_train[:,1], y_train_pred[:,1])*100,\"%\")\n"
   ]
  },
  {
   "cell_type": "code",
   "execution_count": 12,
   "id": "14c80fa6",
   "metadata": {},
   "outputs": [
    {
     "name": "stdout",
     "output_type": "stream",
     "text": [
      "Mean absolute Testing error in Sensor3:  4.209508008217798\n",
      "Mean absolute Training error in Sensor3:  4.210327848548245\n",
      "\n",
      "\n",
      "Mean Squared Testing error in Sensor3:  45.824484503510035\n",
      "Mean Squared Training error in Sensor3:  50.077082032220744\n",
      "\n",
      "\n",
      "Percentage Mean absolute percentage Testing error in Sensor3:  9.449247831280656 %\n",
      "Percentage Mean absolute Testing error in Sensor3:  9.335065538548653 %\n",
      "\n",
      "\n",
      "\n",
      "\n",
      "Mean absolute Testing error in Sensor4:  4.174639113974553\n",
      "Mean absolute Training error in Sensor4:  4.181257782849747\n",
      "\n",
      "\n",
      "Mean Squared Testing error in Sensor4:  45.65302941964942\n",
      "Mean Squared Training error in Sensor4:  46.21999700937912\n",
      "\n",
      "\n",
      "Percentage Mean absolute percentage Testing error in Sensor4:  7.320993319356896 %\n",
      "Percentage Mean absolute Testing error in Sensor3:  7.331390027469381 %\n"
     ]
    }
   ],
   "source": [
    "printMetrics(y_test, y_pred, y_train, y_train_pred)"
   ]
  },
  {
   "cell_type": "code",
   "execution_count": 13,
   "id": "e8d277f8",
   "metadata": {},
   "outputs": [
    {
     "name": "stdout",
     "output_type": "stream",
     "text": [
      "predicted sensor3, sensor4 value:  [[114.28976727 197.16342292]]\n",
      "Actual sensor3, sensor4 value:  124.0 204.0\n"
     ]
    }
   ],
   "source": [
    "f=1211103  # put f=any arbitrary row number and compare the predicted value vs actual value\n",
    "print(\"predicted sensor3, sensor4 value: \", ml.predict([[input_data.iloc[f,0],input_data.iloc[f,1],input_data.iloc[f,4],input_data.iloc[f,5],input_data.iloc[f,6]]]))\n",
    "print(\"Actual sensor3, sensor4 value: \",input_data.iloc[f,2],input_data.iloc[f,3])"
   ]
  },
  {
   "cell_type": "code",
   "execution_count": 14,
   "id": "0980222a",
   "metadata": {},
   "outputs": [
    {
     "data": {
      "text/plain": [
       "<matplotlib.collections.PathCollection at 0x7ff9b79b4dc0>"
      ]
     },
     "execution_count": 14,
     "metadata": {},
     "output_type": "execute_result"
    },
    {
     "data": {
      "image/png": "[encoded data removed]",
      "text/plain": [
       "<Figure size 360x360 with 1 Axes>"
      ]
     },
     "metadata": {
      "needs_background": "light"
     },
     "output_type": "display_data"
    },
    {
     "data": {
      "image/png": "[encoded data removed]",
      "text/plain": [
       "<Figure size 360x360 with 1 Axes>"
      ]
     },
     "metadata": {
      "needs_background": "light"
     },
     "output_type": "display_data"
    }
   ],
   "source": [
    "from sklearn.linear_model import Ridge\n",
    "ml= Ridge(alpha = 0.01)\n",
    "ml.fit(x_train,y_train)\n",
    "y_pred=ml.predict(x_test)\n",
    "y_train_pred=ml.predict(x_train)\n",
    "\n",
    "\n",
    "plt.figure(figsize=(5,5))\n",
    "plt.xlabel(\"sensor3_test_data\")\n",
    "plt.ylabel(\"sensor3_predicted\")\n",
    "plt.title(\"sensor3 test vs predicted\")\n",
    "plt.scatter(y_test[:,0],y_pred[:,0])\n",
    "\n",
    "\n",
    "plt.figure(figsize=(5,5))\n",
    "plt.xlabel(\"sensor4_test_data\")\n",
    "plt.ylabel(\"sensor4_test_predicted\")\n",
    "plt.title(\"sensor4 test vs predicted\")\n",
    "plt.scatter(y_test[:,1],y_pred[:,1])"
   ]
  },
  {
   "cell_type": "code",
   "execution_count": 15,
   "id": "d5e5c109",
   "metadata": {},
   "outputs": [
    {
     "name": "stdout",
     "output_type": "stream",
     "text": [
      "Mean absolute Testing error in Sensor3:  4.209508008219055\n",
      "Mean absolute Training error in Sensor3:  4.210327848549413\n",
      "\n",
      "\n",
      "Mean Squared Testing error in Sensor3:  45.82448450349886\n",
      "Mean Squared Training error in Sensor3:  50.0770820322213\n",
      "\n",
      "\n",
      "Percentage Mean absolute percentage Testing error in Sensor3:  9.449247831293935 %\n",
      "Percentage Mean absolute Testing error in Sensor3:  9.335065538561995 %\n",
      "\n",
      "\n",
      "\n",
      "\n",
      "Mean absolute Testing error in Sensor4:  4.174639113975814\n",
      "Mean absolute Training error in Sensor4:  4.181257782851005\n",
      "\n",
      "\n",
      "Mean Squared Testing error in Sensor4:  45.65302941964102\n",
      "Mean Squared Training error in Sensor4:  46.219997009378964\n",
      "\n",
      "\n",
      "Percentage Mean absolute percentage Testing error in Sensor4:  7.320993319353103 %\n",
      "Percentage Mean absolute Testing error in Sensor3:  7.33139002746539 %\n"
     ]
    }
   ],
   "source": [
    "printMetrics(y_test, y_pred, y_train, y_train_pred)"
   ]
  },
  {
   "cell_type": "code",
   "execution_count": 16,
   "id": "0107e1d2",
   "metadata": {},
   "outputs": [
    {
     "data": {
      "text/plain": [
       "<matplotlib.collections.PathCollection at 0x7ff9b1172700>"
      ]
     },
     "execution_count": 16,
     "metadata": {},
     "output_type": "execute_result"
    },
    {
     "data": {
      "image/png": "[encoded data removed]",
      "text/plain": [
       "<Figure size 360x360 with 1 Axes>"
      ]
     },
     "metadata": {
      "needs_background": "light"
     },
     "output_type": "display_data"
    },
    {
     "data": {
      "image/png": "[encoded data removed]",
      "text/plain": [
       "<Figure size 360x360 with 1 Axes>"
      ]
     },
     "metadata": {
      "needs_background": "light"
     },
     "output_type": "display_data"
    }
   ],
   "source": [
    "from sklearn.linear_model import Lasso\n",
    "ml= Lasso(alpha = 0.01)\n",
    "ml.fit(x_train,y_train)\n",
    "y_pred=ml.predict(x_test)\n",
    "y_train_pred=ml.predict(x_train)\n",
    "\n",
    "\n",
    "plt.figure(figsize=(5,5))\n",
    "plt.xlabel(\"sensor3_test_data\")\n",
    "plt.ylabel(\"sensor3_predicted\")\n",
    "plt.title(\"sensor3 test vs predicted\")\n",
    "plt.scatter(y_test[:,0],y_pred[:,0])\n",
    "\n",
    "\n",
    "plt.figure(figsize=(5,5))\n",
    "plt.xlabel(\"sensor4_test_data\")\n",
    "plt.ylabel(\"sensor4_test_predicted\")\n",
    "plt.title(\"sensor4 test vs predicted\")\n",
    "plt.scatter(y_test[:,1],y_pred[:,1])"
   ]
  },
  {
   "cell_type": "code",
   "execution_count": 20,
   "id": "301be580",
   "metadata": {},
   "outputs": [
    {
     "name": "stdout",
     "output_type": "stream",
     "text": [
      "Mean absolute Testing error in Sensor3:  4.209433420915061\n",
      "Mean absolute Training error in Sensor3:  4.210252072220289\n",
      "\n",
      "\n",
      "Mean Squared Testing error in Sensor3:  45.82428745665257\n",
      "Mean Squared Training error in Sensor3:  50.07710512268668\n",
      "\n",
      "\n",
      "Percentage Mean absolute percentage Testing error in Sensor3:  9.449119481620862 %\n",
      "Percentage Mean absolute Testing error in Sensor3:  9.33494440029782 %\n",
      "\n",
      "\n",
      "\n",
      "\n",
      "Mean absolute Testing error in Sensor4:  4.174593816438168\n",
      "Mean absolute Training error in Sensor4:  4.181215789849527\n",
      "\n",
      "\n",
      "Mean Squared Testing error in Sensor4:  45.653076556004365\n",
      "Mean Squared Training error in Sensor4:  46.22001558627881\n",
      "\n",
      "\n",
      "Percentage Mean absolute percentage Testing error in Sensor4:  7.321732648749675 %\n",
      "Percentage Mean absolute Testing error in Sensor3:  7.332109013627284 %\n"
     ]
    }
   ],
   "source": [
    "printMetrics(y_test, y_pred, y_train, y_train_pred)"
   ]
  },
  {
   "cell_type": "code",
   "execution_count": 22,
   "id": "d1a01f6f",
   "metadata": {},
   "outputs": [
    {
     "ename": "ModuleNotFoundError",
     "evalue": "No module named 'statsmodels'",
     "output_type": "error",
     "traceback": [
      "\u001b[0;31m---------------------------------------------------------------------------\u001b[0m",
      "\u001b[0;31mModuleNotFoundError\u001b[0m                       Traceback (most recent call last)",
      "\u001b[0;32m/tmp/ipykernel_24122/3433477136.py\u001b[0m in \u001b[0;36m<module>\u001b[0;34m\u001b[0m\n\u001b[1;32m      1\u001b[0m \u001b[0;32mfrom\u001b[0m \u001b[0mscipy\u001b[0m \u001b[0;32mimport\u001b[0m \u001b[0mstats\u001b[0m\u001b[0;34m\u001b[0m\u001b[0;34m\u001b[0m\u001b[0m\n\u001b[0;32m----> 2\u001b[0;31m \u001b[0;32mimport\u001b[0m \u001b[0mstatsmodels\u001b[0m\u001b[0;34m.\u001b[0m\u001b[0mapi\u001b[0m \u001b[0;32mas\u001b[0m \u001b[0msm\u001b[0m\u001b[0;34m\u001b[0m\u001b[0;34m\u001b[0m\u001b[0m\n\u001b[0m",
      "\u001b[0;31mModuleNotFoundError\u001b[0m: No module named 'statsmodels'"
     ]
    }
   ],
   "source": [
    "from scipy import stats\n",
    "import statsmodels.api as sm"
   ]
  },
  {
   "cell_type": "code",
   "execution_count": null,
   "id": "9b5b49e2",
   "metadata": {},
   "outputs": [],
   "source": []
  }
 ],
 "metadata": {
  "kernelspec": {
   "display_name": "Python 3",
   "language": "python",
   "name": "python3"
  },
  "language_info": {
   "codemirror_mode": {
    "name": "ipython",
    "version": 3
   },
   "file_extension": ".py",
   "mimetype": "text/x-python",
   "name": "python",
   "nbconvert_exporter": "python",
   "pygments_lexer": "ipython3",
   "version": "3.8.8"
  }
 },
 "nbformat": 4,
 "nbformat_minor": 5
}
