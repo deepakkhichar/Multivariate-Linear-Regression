{
 "cells": [
  {
   "cell_type": "code",
   "execution_count": 1,
   "id": "58d65d84",
   "metadata": {},
   "outputs": [],
   "source": [
    "import pandas as pd\n",
    "import matplotlib as mpl\n",
    "import matplotlib.pyplot as plt\n",
    "import datetime as dt\n",
    "\n",
    "filename = 'A.csv'\n",
    "data = pd.read_csv(filename,  parse_dates= ['ts'])\n",
    "\n",
    "dataFiltered = data[data['sensorThree']>0]\n",
    "dataFiltered = dataFiltered[dataFiltered['sensorThree'].notna()]\n",
    "dataFiltered = dataFiltered[dataFiltered['sensorFour']>0]\n",
    "dataFiltered = dataFiltered[dataFiltered['sensorFour'].notna()]\n",
    "dataFiltered = dataFiltered[dataFiltered['sensorFive']>0]\n",
    "dataFiltered = dataFiltered[dataFiltered['sensorFive'].notna()]\n",
    "dataFiltered = dataFiltered[dataFiltered['sensorSix']>0]\n",
    "dataFiltered = dataFiltered[dataFiltered['sensorSix'].notna()]\n",
    "dataFiltered = dataFiltered[dataFiltered['sensorSeven']>0]\n",
    "dataFiltered = dataFiltered[dataFiltered['sensorSeven'].notna()]\n",
    "data = dataFiltered\n",
    "\n",
    "data['metaOne'] = pd.to_timedelta(data['metaOne'])\n",
    "data['metaOne'] = data['metaOne'].dt.total_seconds()\n",
    "\n",
    "data['ts'] = data['ts'].map(dt.datetime.toordinal)\n",
    "\n",
    "from sklearn.model_selection import train_test_split\n",
    "X_val = data[[\"metaOne\",\"ts\",\"sensorFive\",\"sensorSix\",\"sensorSeven\"]].values\n",
    "Y_val = data[[\"sensorThree\",\"sensorFour\"]].values\n",
    "X_train, X_test, Y_train, Y_test = train_test_split(X_val, Y_val, test_size = 0.33)"
   ]
  },
  {
   "cell_type": "raw",
   "id": "0c5fffcd",
   "metadata": {},
   "source": []
  },
  {
   "cell_type": "code",
   "execution_count": 2,
   "id": "a81d4c1e",
   "metadata": {},
   "outputs": [
    {
     "name": "stdout",
     "output_type": "stream",
     "text": [
      "0.9822992047909571\n",
      "Training scores:\n",
      "R2 score 0.986143112507047\n",
      "Mean squared error 42.86273802375868\n",
      "Mean absolute error 4.194850248339792\n",
      "Test scores:\n",
      "Mean squared error 57.418389445524355\n",
      "Mean absolute error 4.201978220228083\n"
     ]
    }
   ],
   "source": [
    "from sklearn import linear_model\n",
    "from sklearn import metrics\n",
    "regr = linear_model.Ridge(alpha = 0.5)\n",
    "regr.fit(X_train, Y_train)\n",
    "print(regr.score(X_test, Y_test))\n",
    "y_pred = regr.predict(X_test)\n",
    "y_pred_train = regr.predict(X_train)\n",
    "print(\"Training scores:\")\n",
    "print(\"R2 score\", metrics.r2_score(y_pred_train, Y_train))\n",
    "print(\"Mean squared error\",  metrics.mean_squared_error(y_pred_train, Y_train))\n",
    "print(\"Mean absolute error\", metrics.mean_absolute_error(y_pred_train, Y_train))\n",
    "print(\"Test scores:\")\n",
    "print(\"Mean squared error\",  metrics.mean_squared_error(y_pred, Y_test))\n",
    "print(\"Mean absolute error\", metrics.mean_absolute_error(y_pred, Y_test))"
   ]
  },
  {
   "cell_type": "code",
   "execution_count": 3,
   "id": "5753f14e",
   "metadata": {},
   "outputs": [
    {
     "name": "stdout",
     "output_type": "stream",
     "text": [
      "0.9822992047909238\n",
      "Training scores:\n",
      "R2 score 0.9861431125076379\n",
      "Mean squared error 42.8627380237569\n",
      "Mean absolute error 4.194850248283526\n",
      "Test scores:\n",
      "R2 score 0.9818823628144684\n",
      "Mean squared error 57.41838944562808\n",
      "Mean absolute error 4.2019782201703615\n"
     ]
    }
   ],
   "source": [
    "from sklearn import linear_model\n",
    "regr = linear_model.Ridge(alpha = 0.01)\n",
    "regr.fit(X_train, Y_train)\n",
    "print(regr.score(X_test, Y_test))\n",
    "y_pred = regr.predict(X_test)\n",
    "y_pred_train = regr.predict(X_train)\n",
    "print(\"Training scores:\")\n",
    "print(\"R2 score\", metrics.r2_score(y_pred_train, Y_train))\n",
    "print(\"Mean squared error\",  metrics.mean_squared_error(y_pred_train, Y_train))\n",
    "print(\"Mean absolute error\", metrics.mean_absolute_error(y_pred_train, Y_train))\n",
    "print(\"Test scores:\")\n",
    "print(\"R2 score\", metrics.r2_score(y_pred, Y_test))\n",
    "print(\"Mean squared error\",  metrics.mean_squared_error(y_pred, Y_test))\n",
    "print(\"Mean absolute error\", metrics.mean_absolute_error(y_pred, Y_test))"
   ]
  },
  {
   "cell_type": "code",
   "execution_count": 4,
   "id": "eda13b53",
   "metadata": {},
   "outputs": [
    {
     "name": "stdout",
     "output_type": "stream",
     "text": [
      "0.982298583321545\n",
      "Training scores:\n",
      "R2 score 0.9861416283646514\n",
      "Mean squared error 42.86482989956384\n",
      "Mean absolute error 4.194460086234748\n",
      "Test scores:\n",
      "R2 score 0.9818807366107284\n",
      "Mean squared error 57.421104496389106\n",
      "Mean absolute error 4.201592235661013\n"
     ]
    }
   ],
   "source": [
    "regr = linear_model.Lasso(alpha = 0.1)\n",
    "regr.fit(X_train, Y_train)\n",
    "print(regr.score(X_test, Y_test))\n",
    "y_pred = regr.predict(X_test)\n",
    "y_pred_train = regr.predict(X_train)\n",
    "print(\"Training scores:\")\n",
    "print(\"R2 score\", metrics.r2_score(y_pred_train, Y_train))\n",
    "print(\"Mean squared error\",  metrics.mean_squared_error(y_pred_train, Y_train))\n",
    "print(\"Mean absolute error\", metrics.mean_absolute_error(y_pred_train, Y_train))\n",
    "print(\"Test scores:\")\n",
    "print(\"R2 score\", metrics.r2_score(y_pred, Y_test))\n",
    "print(\"Mean squared error\",  metrics.mean_squared_error(y_pred, Y_test))\n",
    "print(\"Mean absolute error\", metrics.mean_absolute_error(y_pred, Y_test))"
   ]
  },
  {
   "cell_type": "code",
   "execution_count": 5,
   "id": "ee0d458e",
   "metadata": {},
   "outputs": [
    {
     "name": "stdout",
     "output_type": "stream",
     "text": [
      "0.9822990642025238\n",
      "Training scores:\n",
      "R2 score 0.9861425384506335\n",
      "Mean squared error 42.86325908180916\n",
      "Mean absolute error 4.194607647809676\n",
      "Test scores:\n",
      "R2 score 0.9818817157677363\n",
      "Mean squared error 57.419219665096264\n",
      "Mean absolute error 4.2017371605736\n"
     ]
    }
   ],
   "source": [
    "regr = linear_model.Lasso(alpha = 0.05)\n",
    "regr.fit(X_train, Y_train)\n",
    "print(regr.score(X_test, Y_test))\n",
    "y_pred = regr.predict(X_test)\n",
    "y_pred_train = regr.predict(X_train)\n",
    "print(\"Training scores:\")\n",
    "print(\"R2 score\", metrics.r2_score(y_pred_train, Y_train))\n",
    "print(\"Mean squared error\",  metrics.mean_squared_error(y_pred_train, Y_train))\n",
    "print(\"Mean absolute error\", metrics.mean_absolute_error(y_pred_train, Y_train))\n",
    "print(\"Test scores:\")\n",
    "print(\"R2 score\", metrics.r2_score(y_pred, Y_test))\n",
    "print(\"Mean squared error\",  metrics.mean_squared_error(y_pred, Y_test))\n",
    "print(\"Mean absolute error\", metrics.mean_absolute_error(y_pred, Y_test))"
   ]
  },
  {
   "cell_type": "code",
   "execution_count": 6,
   "id": "ca602589",
   "metadata": {},
   "outputs": [],
   "source": [
    "def cross_validate_with_model(model, scoring_method):\n",
    "    scores = cross_val_score(model, X_val, Y_val, cv = 5, scoring=scoring_method)\n",
    "    if scoring_method == 'neg_mean_squared_error' or scoring_method == 'neg_mean_absolute_error':\n",
    "        mult = -1\n",
    "    else:\n",
    "        mult = 1\n",
    "        \n",
    "    print(mult*scores)\n",
    "    print(\"Mean\", mult*scores.mean())\n",
    "    print(\"Variance\", scores.var())"
   ]
  },
  {
   "cell_type": "code",
   "execution_count": 7,
   "id": "8e056a81",
   "metadata": {},
   "outputs": [
    {
     "name": "stdout",
     "output_type": "stream",
     "text": [
      "R2 scores\n",
      "[0.98384083 0.97834294 0.97964676 0.98165888 0.83562806]\n",
      "Mean 0.9518234923622687\n",
      "Variance 0.0033788109643396623\n",
      "mean squared error\n",
      "[77.47786892 88.79325258 52.53674002 16.54049448 15.5626377 ]\n",
      "Mean 50.18219874093187\n",
      "Variance 914.3378452659836\n",
      "mean absolute error\n",
      "[5.34863492 5.31477896 4.80247161 3.07452991 3.15065565]\n",
      "Mean 4.338214211502072\n",
      "Variance 1.0394713970996903\n"
     ]
    }
   ],
   "source": [
    "from sklearn.model_selection import cross_val_score\n",
    "regrRidge = linear_model.Ridge(alpha = 0.01)\n",
    "print('R2 scores')\n",
    "cross_validate_with_model(regrRidge, None)\n",
    "print('mean squared error')\n",
    "cross_validate_with_model(regrRidge, 'neg_mean_squared_error')\n",
    "print('mean absolute error')\n",
    "cross_validate_with_model(regrRidge, 'neg_mean_absolute_error')"
   ]
  },
  {
   "cell_type": "code",
   "execution_count": 8,
   "id": "8d5d3cee",
   "metadata": {},
   "outputs": [
    {
     "name": "stdout",
     "output_type": "stream",
     "text": [
      "R2 scores\n",
      "[0.98384196 0.97834028 0.97963863 0.98167258 0.83584002]\n",
      "Mean 0.951866694945575\n",
      "Variance 0.0033690259413340666\n",
      "mean squared error\n",
      "[77.47632223 88.79778347 52.54351051 16.52998519 15.54387425]\n",
      "Mean 50.17829513198887\n",
      "Variance 914.7986557762791\n",
      "mean absolute error\n",
      "[5.34763617 5.31493861 4.80321346 3.07320085 3.14842933]\n",
      "Mean 4.33748368331103\n",
      "Variance 1.0409983476031386\n"
     ]
    }
   ],
   "source": [
    "regrLasso = linear_model.Lasso(alpha = 0.05)\n",
    "print('R2 scores')\n",
    "cross_validate_with_model(regrLasso, None)\n",
    "print('mean squared error')\n",
    "cross_validate_with_model(regrLasso, 'neg_mean_squared_error')\n",
    "print('mean absolute error')\n",
    "cross_validate_with_model(regrLasso, 'neg_mean_absolute_error')"
   ]
  },
  {
   "cell_type": "code",
   "execution_count": 9,
   "id": "532a98c5",
   "metadata": {},
   "outputs": [
    {
     "name": "stdout",
     "output_type": "stream",
     "text": [
      "R2 scores\n",
      "[0.98384083 0.97834294 0.97964676 0.98165888 0.83562806]\n",
      "Mean 0.951823492362416\n",
      "Variance 0.0033788109642970132\n",
      "mean squared error\n",
      "[77.47786892 88.79325258 52.53674002 16.54049448 15.5626377 ]\n",
      "Mean 50.1821987409704\n",
      "Variance 914.3378452680652\n",
      "mean absolute error\n",
      "[5.34863492 5.31477896 4.80247161 3.07452991 3.15065565]\n",
      "Mean 4.338214211499031\n",
      "Variance 1.0394713970979703\n"
     ]
    }
   ],
   "source": [
    "regr = linear_model.LinearRegression()\n",
    "print('R2 scores')\n",
    "cross_validate_with_model(regr, None)\n",
    "print('mean squared error')\n",
    "cross_validate_with_model(regr, 'neg_mean_squared_error')\n",
    "print('mean absolute error')\n",
    "cross_validate_with_model(regr, 'neg_mean_absolute_error')"
   ]
  },
  {
   "cell_type": "code",
   "execution_count": 10,
   "id": "9c8f47fb",
   "metadata": {},
   "outputs": [
    {
     "name": "stdout",
     "output_type": "stream",
     "text": [
      "[0.98684596 0.98670127 0.98471987 0.98351018 0.98464592 0.9861862\n",
      " 0.9842313  0.9861436  0.98488991 0.98351358]\n",
      "0.9851387783626034\n",
      "1.4060064441802717e-06\n"
     ]
    }
   ],
   "source": [
    "from sklearn.model_selection import ShuffleSplit\n",
    "shuffle_split = ShuffleSplit(n_splits = 10, test_size = 0.33, random_state=20)\n",
    "regr = linear_model.LinearRegression()\n",
    "\n",
    "scores = cross_val_score(regr, X_val, Y_val, cv = shuffle_split)\n",
    "\n",
    "print(scores)\n",
    "print(scores.mean())\n",
    "print(scores.var())"
   ]
  },
  {
   "cell_type": "code",
   "execution_count": 11,
   "id": "5754a7d5",
   "metadata": {},
   "outputs": [
    {
     "name": "stdout",
     "output_type": "stream",
     "text": [
      "[0.98684596 0.98670127 0.98471987 0.98351018 0.98464592 0.9861862\n",
      " 0.9842313  0.9861436  0.98488991 0.98351358]\n",
      "0.9851387783626044\n",
      "1.4060064441802186e-06\n"
     ]
    }
   ],
   "source": [
    "regrRidge = linear_model.Ridge(alpha = 0.01)\n",
    "\n",
    "scores = cross_val_score(regrRidge, X_val, Y_val, cv = shuffle_split)\n",
    "\n",
    "print(scores)\n",
    "print(scores.mean())\n",
    "print(scores.var())\n"
   ]
  },
  {
   "cell_type": "code",
   "execution_count": 12,
   "id": "c4a4ba6a",
   "metadata": {},
   "outputs": [
    {
     "name": "stdout",
     "output_type": "stream",
     "text": [
      "[0.98684584 0.98670099 0.98471999 0.98350989 0.98464575 0.98618613\n",
      " 0.98423094 0.9861436  0.98488971 0.98351332]\n",
      "0.9851386162144354\n",
      "1.406122397257865e-06\n"
     ]
    }
   ],
   "source": [
    "regrLasso = linear_model.Lasso(alpha = 0.05)\n",
    "\n",
    "scores = cross_val_score(regrLasso, X_val, Y_val, cv = shuffle_split)\n",
    "\n",
    "print(scores)\n",
    "print(scores.mean())\n",
    "print(scores.var())"
   ]
  },
  {
   "cell_type": "code",
   "execution_count": null,
   "id": "e3f3a4e3",
   "metadata": {},
   "outputs": [],
   "source": []
  }
 ],
 "metadata": {
  "kernelspec": {
   "display_name": "Python 3",
   "language": "python",
   "name": "python3"
  },
  "language_info": {
   "codemirror_mode": {
    "name": "ipython",
    "version": 3
   },
   "file_extension": ".py",
   "mimetype": "text/x-python",
   "name": "python",
   "nbconvert_exporter": "python",
   "pygments_lexer": "ipython3",
   "version": "3.8.8"
  }
 },
 "nbformat": 4,
 "nbformat_minor": 5
}
