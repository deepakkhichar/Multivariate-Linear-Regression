{
 "cells": [
  {
   "cell_type": "code",
   "execution_count": 1,
   "id": "984b4204",
   "metadata": {},
   "outputs": [],
   "source": [
    "import statsmodels.api as sm"
   ]
  },
  {
   "cell_type": "code",
   "execution_count": 2,
   "id": "cfbe5f55",
   "metadata": {},
   "outputs": [],
   "source": [
    "import pandas as pd\n",
    "import numpy as np\n",
    "from sklearn import datasets, linear_model\n",
    "from sklearn.linear_model import LinearRegression\n",
    "import statsmodels.api as sm\n",
    "from scipy import stats"
   ]
  },
  {
   "cell_type": "code",
   "execution_count": 3,
   "id": "3f89a657",
   "metadata": {},
   "outputs": [],
   "source": [
    "filename = 'A.csv'\n",
    "data = pd.read_csv(filename,  parse_dates= ['ts'])\n",
    "\n",
    "dataFiltered = data[data['sensorThree']>0]\n",
    "dataFiltered = dataFiltered[dataFiltered['sensorThree'].notna()]\n",
    "dataFiltered = dataFiltered[dataFiltered['sensorFour']>0]\n",
    "dataFiltered = dataFiltered[dataFiltered['sensorFour'].notna()]\n",
    "dataFiltered = dataFiltered[dataFiltered['sensorFive']>0]\n",
    "dataFiltered = dataFiltered[dataFiltered['sensorFive'].notna()]\n",
    "dataFiltered = dataFiltered[dataFiltered['sensorSix']>0]\n",
    "dataFiltered = dataFiltered[dataFiltered['sensorSix'].notna()]\n",
    "dataFiltered = dataFiltered[dataFiltered['sensorSeven']>0]\n",
    "dataFiltered = dataFiltered[dataFiltered['sensorSeven'].notna()]\n",
    "data = dataFiltered"
   ]
  },
  {
   "cell_type": "code",
   "execution_count": 4,
   "id": "54c05622",
   "metadata": {},
   "outputs": [],
   "source": [
    "import datetime as dt\n",
    "data['metaOne'] = pd.to_timedelta(data['metaOne'])\n",
    "data['metaOne'] = data['metaOne'].dt.total_seconds()\n",
    "\n",
    "data['ts']= data['ts'].map(dt.datetime.toordinal)"
   ]
  },
  {
   "cell_type": "code",
   "execution_count": 5,
   "id": "f4e88553",
   "metadata": {},
   "outputs": [],
   "source": [
    "X = data[[\"metaOne\",\"ts\",\"sensorFive\",\"sensorSix\",\"sensorSeven\"]].values\n",
    "Y_val = data[[\"sensorThree\",\"sensorFour\"]].values"
   ]
  },
  {
   "cell_type": "code",
   "execution_count": 7,
   "id": "d1f841d6",
   "metadata": {},
   "outputs": [
    {
     "name": "stdout",
     "output_type": "stream",
     "text": [
      "                            OLS Regression Results                            \n",
      "==============================================================================\n",
      "Dep. Variable:                      y   R-squared:                       0.976\n",
      "Model:                            OLS   Adj. R-squared:                  0.976\n",
      "Method:                 Least Squares   F-statistic:                 4.198e+07\n",
      "Date:                Mon, 04 Oct 2021   Prob (F-statistic):               0.00\n",
      "Time:                        22:45:40   Log-Likelihood:            -1.4159e+07\n",
      "No. Observations:             4178377   AIC:                         2.832e+07\n",
      "Df Residuals:                 4178372   BIC:                         2.832e+07\n",
      "Df Model:                           4                                         \n",
      "Covariance Type:            nonrobust                                         \n",
      "==============================================================================\n",
      "                 coef    std err          t      P>|t|      [0.025      0.975]\n",
      "------------------------------------------------------------------------------\n",
      "x1          2.971e-05   1.41e-07    211.036      0.000    2.94e-05       3e-05\n",
      "x2          1.048e-05    5.7e-08    183.992      0.000    1.04e-05    1.06e-05\n",
      "x3             0.4941   5.18e-05   9536.211      0.000       0.494       0.494\n",
      "x4             0.0018      0.000      5.182      0.000       0.001       0.002\n",
      "x5            -0.2104      0.001   -183.500      0.000      -0.213      -0.208\n",
      "==============================================================================\n",
      "Omnibus:                  9379436.818   Durbin-Watson:                   0.577\n",
      "Prob(Omnibus):                  0.000   Jarque-Bera (JB):   53547357175514.250\n",
      "Skew:                          18.873   Prob(JB):                         0.00\n",
      "Kurtosis:                   17540.586   Cond. No.                     2.46e+05\n",
      "==============================================================================\n",
      "\n",
      "Notes:\n",
      "[1] Standard Errors assume that the covariance matrix of the errors is correctly specified.\n",
      "[2] The condition number is large, 2.46e+05. This might indicate that there are\n",
      "strong multicollinearity or other numerical problems.\n"
     ]
    }
   ],
   "source": [
    "# Statistical significance for sensor 3\n",
    "y = Y_val[:, 0]\n",
    "X2 = sm.add_constant(X)\n",
    "est = sm.OLS(y, X)\n",
    "est2 = est.fit()\n",
    "print(est2.summary())"
   ]
  },
  {
   "cell_type": "code",
   "execution_count": 8,
   "id": "fa39608b",
   "metadata": {},
   "outputs": [
    {
     "name": "stdout",
     "output_type": "stream",
     "text": [
      "x1    0.000000e+00\n",
      "x2    0.000000e+00\n",
      "x3    0.000000e+00\n",
      "x4    2.197506e-07\n",
      "x5    0.000000e+00\n",
      "Name: P>|t|, dtype: float64\n"
     ]
    }
   ],
   "source": [
    "p_values = est2.summary2().tables[1]['P>|t|']\n",
    "print(p_values)"
   ]
  },
  {
   "cell_type": "code",
   "execution_count": 10,
   "id": "8f5c7605",
   "metadata": {},
   "outputs": [
    {
     "name": "stdout",
     "output_type": "stream",
     "text": [
      "                            OLS Regression Results                            \n",
      "==============================================================================\n",
      "Dep. Variable:                      y   R-squared:                       0.993\n",
      "Model:                            OLS   Adj. R-squared:                  0.993\n",
      "Method:                 Least Squares   F-statistic:                 1.497e+08\n",
      "Date:                Mon, 04 Oct 2021   Prob (F-statistic):               0.00\n",
      "Time:                        22:52:23   Log-Likelihood:            -1.4012e+07\n",
      "No. Observations:             4178377   AIC:                         2.802e+07\n",
      "Df Residuals:                 4178372   BIC:                         2.802e+07\n",
      "Df Model:                           4                                         \n",
      "Covariance Type:            nonrobust                                         \n",
      "==============================================================================\n",
      "                 coef    std err          t      P>|t|      [0.025      0.975]\n",
      "------------------------------------------------------------------------------\n",
      "x1          1.372e-05   1.36e-07    100.929      0.000    1.35e-05     1.4e-05\n",
      "x2          8.534e-06    5.5e-08    155.129      0.000    8.43e-06    8.64e-06\n",
      "x3             0.9104      5e-05   1.82e+04      0.000       0.910       0.910\n",
      "x4            -0.0733      0.000   -217.160      0.000      -0.074      -0.073\n",
      "x5            -0.2946      0.001   -266.119      0.000      -0.297      -0.292\n",
      "===============================================================================\n",
      "Omnibus:                 13366397.410   Durbin-Watson:                    0.685\n",
      "Prob(Omnibus):                  0.000   Jarque-Bera (JB):   299997585695805.062\n",
      "Skew:                         -50.255   Prob(JB):                          0.00\n",
      "Kurtosis:                   41513.639   Cond. No.                      2.46e+05\n",
      "===============================================================================\n",
      "\n",
      "Notes:\n",
      "[1] Standard Errors assume that the covariance matrix of the errors is correctly specified.\n",
      "[2] The condition number is large, 2.46e+05. This might indicate that there are\n",
      "strong multicollinearity or other numerical problems.\n"
     ]
    }
   ],
   "source": [
    "# Statistical significance for sensor 4\n",
    "y = Y_val[:, 1]\n",
    "X2 = sm.add_constant(X)\n",
    "est = sm.OLS(y, X)\n",
    "est2 = est.fit()\n",
    "print(est2.summary())"
   ]
  },
  {
   "cell_type": "code",
   "execution_count": 11,
   "id": "1e57c938",
   "metadata": {},
   "outputs": [
    {
     "name": "stdout",
     "output_type": "stream",
     "text": [
      "x1    0.0\n",
      "x2    0.0\n",
      "x3    0.0\n",
      "x4    0.0\n",
      "x5    0.0\n",
      "Name: P>|t|, dtype: float64\n"
     ]
    }
   ],
   "source": [
    "p_values = est2.summary2().tables[1]['P>|t|']\n",
    "print(p_values)"
   ]
  },
  {
   "cell_type": "code",
   "execution_count": null,
   "id": "ac7ededd",
   "metadata": {},
   "outputs": [],
   "source": []
  }
 ],
 "metadata": {
  "kernelspec": {
   "display_name": "Python 3 (ipykernel)",
   "language": "python",
   "name": "python3"
  },
  "language_info": {
   "codemirror_mode": {
    "name": "ipython",
    "version": 3
   },
   "file_extension": ".py",
   "mimetype": "text/x-python",
   "name": "python",
   "nbconvert_exporter": "python",
   "pygments_lexer": "ipython3",
   "version": "3.9.5"
  }
 },
 "nbformat": 4,
 "nbformat_minor": 5
}
